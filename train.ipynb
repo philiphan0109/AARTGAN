{
 "cells": [
  {
   "cell_type": "code",
   "execution_count": 1,
   "metadata": {},
   "outputs": [],
   "source": [
    "import os\n",
    "import random\n",
    "import torch\n",
    "import torch.nn as nn\n",
    "import torch.optim as optim\n",
    "import torch.utils\n",
    "import torch.utils.data\n",
    "import torchvision\n",
    "import torchvision.transforms as transforms\n",
    "import numpy as np\n",
    "import matplotlib.pyplot as plt\n",
    "\n",
    "from model import init_weights\n",
    "from model import Generator, Discriminator"
   ]
  },
  {
   "cell_type": "code",
   "execution_count": 2,
   "metadata": {},
   "outputs": [
    {
     "data": {
      "text/plain": [
       "<torch._C.Generator at 0x112e73f10>"
      ]
     },
     "execution_count": 2,
     "metadata": {},
     "output_type": "execute_result"
    }
   ],
   "source": [
    "data = \"dataset/\"\n",
    "\n",
    "# random seed for reproducability\n",
    "seed = 999\n",
    "random.seed(seed)\n",
    "torch.manual_seed(seed)\n"
   ]
  },
  {
   "cell_type": "code",
   "execution_count": 3,
   "metadata": {},
   "outputs": [],
   "source": [
    "# hyperparameters\n",
    "batch_size = 128\n",
    "num_epochs = 5\n",
    "image_size = 64\n",
    "nc = 3 # num channels\n",
    "nz = 100 # size of latent vector\n",
    "ngf = 64 # num feature maps in generator\n",
    "ndf = 64 # num feature maps in the discriminator\n",
    "lr = 0.0002"
   ]
  },
  {
   "cell_type": "code",
   "execution_count": 4,
   "metadata": {},
   "outputs": [],
   "source": [
    "dataset = torchvision.datasets.ImageFolder(\n",
    "    root = data,\n",
    "    transform = transforms.Compose([\n",
    "        transforms.Resize(image_size),\n",
    "        transforms.CenterCrop(image_size),\n",
    "        transforms.ToTensor(),\n",
    "        transforms.Normalize((0.5, 0.5, 0.5), (0.5, 0.5, 0.5))\n",
    "    ])\n",
    ")\n",
    "\n",
    "dataloader = torch.utils.data.DataLoader(dataset, batch_size = batch_size, shuffle=True)\n",
    "# device = torch.device(\"mps\")\n",
    "device = torch.device(\"cpu\")"
   ]
  },
  {
   "cell_type": "code",
   "execution_count": 5,
   "metadata": {},
   "outputs": [],
   "source": [
    "# setup model\n",
    "generator = Generator(d_input=nz, d_features=ngf)\n",
    "generator.apply(init_weights)\n",
    "discriminator = Discriminator(num_channels=nc, d_features=ndf)\n",
    "discriminator.apply(init_weights)\n",
    "\n",
    "# loss function and optimizer\n",
    "criterion = nn.BCELoss()\n",
    "rand_noise = torch.randn(64, nz, 1, 1)\n",
    "\n",
    "real_label = 1.\n",
    "fake_label = 0.\n",
    "\n",
    "optimizerD = optim.Adam(discriminator.parameters(), lr=lr, betas=(0.5, 0.999))\n",
    "optimizerG = optim.Adam(generator.parameters(), lr=lr, betas=(0.5, 0.999))"
   ]
  },
  {
   "cell_type": "code",
   "execution_count": 6,
   "metadata": {},
   "outputs": [
    {
     "name": "stdout",
     "output_type": "stream",
     "text": [
      "Starting Training...\n",
      "[0/5][0/64]\tLoss_D: 1.7338\tLoss_G: 2.9221\tD(x): 0.3169\tD(G(z)): 0.3178 / 2.9221\n",
      "[0/5][10/64]\tLoss_D: 0.8162\tLoss_G: 7.8571\tD(x): 0.6619\tD(G(z)): 0.1946 / 7.8571\n",
      "[0/5][20/64]\tLoss_D: 3.5052\tLoss_G: 16.2868\tD(x): 0.9568\tD(G(z)): 0.9527 / 16.2868\n",
      "[0/5][30/64]\tLoss_D: 0.3151\tLoss_G: 22.3466\tD(x): 0.7639\tD(G(z)): 0.0000 / 22.3466\n"
     ]
    }
   ],
   "source": [
    "# training loop\n",
    "imgs_generated = []\n",
    "gen_losses = []\n",
    "disc_losses = []\n",
    "iters = 0\n",
    "\n",
    "print(\"Starting Training...\")\n",
    "for epoch in range(num_epochs):\n",
    "    for i, data in enumerate(dataloader, 0):\n",
    "        # each 'data' entry is 128 images * 3 channels * 128 * 128\n",
    "        # train the discriminator: try to maximize log(D(x)) + log(1-D(G(z)))\n",
    "        discriminator.zero_grad()\n",
    "        # train with real images\n",
    "        real_imgs = data[0]\n",
    "        label = torch.full((real_imgs.size(0),), real_label, dtype=torch.float)\n",
    "        output = discriminator(real_imgs).view(-1)\n",
    "        lossd_real = criterion(output, label)\n",
    "        lossd_real.backward()\n",
    "        \n",
    "        D_x = output.mean().item()\n",
    "        \n",
    "        # train with fake images\n",
    "        noise = torch.randn(real_imgs.size(0), nz, 1, 1)\n",
    "        fake_imgs = generator(noise)\n",
    "        label.fill_(fake_label) # update the labels\n",
    "        output = discriminator(fake_imgs.detach()).view(-1)\n",
    "        lossd_fake = criterion(output, label)\n",
    "        lossd_fake.backward()\n",
    "        \n",
    "        D_G_z1 = output.mean().item()\n",
    "        \n",
    "        lossd = lossd_fake + lossd_real\n",
    "        optimizerD.step()\n",
    "        \n",
    "        \n",
    "        # train the generator: try to maximize log(D(G(z)))\n",
    "        generator.zero_grad()\n",
    "        label.fill_(real_label)\n",
    "        output = discriminator(fake_imgs).view(-1)\n",
    "        lossg = criterion(output, label)\n",
    "        lossg.backward()\n",
    "        D_G_z2 = lossg.mean().item()\n",
    "        \n",
    "        optimizerG.step()\n",
    "        \n",
    "        if i % 10 == 0:\n",
    "            print('[%d/%d][%d/%d]\\tLoss_D: %.4f\\tLoss_G: %.4f\\tD(x): %.4f\\tD(G(z)): %.4f / %.4f' % (epoch, num_epochs, i, len(dataloader), lossd.item(), lossg.item(), D_x, D_G_z1, D_G_z2))\n",
    "        \n",
    "        gen_losses.append(lossg.item())\n",
    "        disc_losses.append(lossd.item())\n",
    "        \n",
    "        # Check how the generator is doing by saving G's output on fixed_noise\n",
    "        if (iters % 500 == 0) or ((epoch == num_epochs-1) and (i == len(dataloader)-1)):\n",
    "            with torch.no_grad():\n",
    "                fake = generator(noise).detach().cpu()\n",
    "            imgs_generated.append(torchvision.utils.make_grid(fake, padding=2, normalize=True))\n",
    "\n",
    "        iters += 1\n",
    "        "
   ]
  },
  {
   "cell_type": "code",
   "execution_count": null,
   "metadata": {},
   "outputs": [],
   "source": []
  }
 ],
 "metadata": {
  "kernelspec": {
   "display_name": "torch",
   "language": "python",
   "name": "python3"
  },
  "language_info": {
   "codemirror_mode": {
    "name": "ipython",
    "version": 3
   },
   "file_extension": ".py",
   "mimetype": "text/x-python",
   "name": "python",
   "nbconvert_exporter": "python",
   "pygments_lexer": "ipython3",
   "version": "3.10.13"
  }
 },
 "nbformat": 4,
 "nbformat_minor": 2
}
